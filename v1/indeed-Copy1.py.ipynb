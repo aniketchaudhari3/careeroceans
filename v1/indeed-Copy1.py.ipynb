{
 "cells": [
  {
   "cell_type": "code",
   "execution_count": 31,
   "metadata": {},
   "outputs": [],
   "source": [
    "from souper import *\n",
    "\n",
    "url = 'https://www.indeed.co.in/jobs?'\n",
    "\n",
    "payload = {\"q\":\"software engineer\",\"l\":\"pune\"}\n",
    "\n",
    "soup = Souper(url,payload).get_soup()\n",
    "jobCards = soup.findAll(\"div\", {\"class\": \"jobsearch-SerpJobCard\"})\n",
    "\n",
    "    "
   ]
  },
  {
   "cell_type": "code",
   "execution_count": 1,
   "metadata": {},
   "outputs": [],
   "source": [
    "def display():\n",
    "    for i in range(0,len(jobCards)):\n",
    "        jobtitle = jobCards[i].findAll(\"a\",{\"class\":\"jobtitle\"}) or jobCards[i].findAll(\"a\",{\"class\":\"turnstilelink\"})\n",
    "        link = jobtitle[0].get('href')\n",
    "        company = jobCards[i].findAll(\"span\",{\"class\":\"company\"})\n",
    "        isSponsored = jobCards[i].findAll(\"span\",{\"class\":\"sponsoredGray\"})\n",
    "        location = jobCards[i].findAll(\"span\",{\"class\":\"company\"})\n",
    "        summary = jobCards[i].findAll(\"span\",{\"class\":\"summary\"})\n",
    "        posted = jobCards[i].findAll(\"span\",{\"class\":\"date\"})\n",
    "\n",
    "        '''\n",
    "        print(i,'Title: ',jobtitle[0].text)\n",
    "        print('company: ',company[0].text)\n",
    "        print('summary: ',summary[0].text)\n",
    "        print('address: ',location[0].text)\n",
    "        '''\n",
    "        #print('--------------------------------------------')\n",
    "        #print('posted on: ',posted[0].text)"
   ]
  },
  {
   "cell_type": "code",
   "execution_count": null,
   "metadata": {
    "scrolled": true
   },
   "outputs": [],
   "source": []
  },
  {
   "cell_type": "code",
   "execution_count": null,
   "metadata": {},
   "outputs": [],
   "source": []
  },
  {
   "cell_type": "code",
   "execution_count": 35,
   "metadata": {
    "scrolled": true
   },
   "outputs": [
    {
     "data": {
      "text/plain": [
       "<div class=\"jobsearch-SerpJobCard row result\" data-empn=\"3919945282525484\" data-jk=\"dae5ae83492b261b\" data-tu=\"\" id=\"pj_dae5ae83492b261b\">\n",
       "<a class=\"jobtitle turnstileLink\" data-tn-element=\"jobTitle\" href=\"/pagead/clk?mo=r&amp;ad=-6NYlbfkN0CdG0mlcq8sM0kM4Z0XjE22y1IvS4TfdSBI7lJNBQS5z1LsBSOvMAKpLzd1lFvxetjEWdXpsJcJ9t0UVWIYC6gr1r7n_vI8OuSO1ajczxbY_qv3LZ-1ELkcNJwx1KyJsBA-xTi7OMZ1dE4WU5jv3dl-EMbLvO7uZQmtRkXhUHdDBex929OGEf4B-FWo7fZxwWX7royhEqekGvShJP8Vt6TUZiYUbhQJ7ioLKPpqfKxtwcxAg1L-yIaYmvjllAeKXP8WvFV7E1YwXV9y7Dpam-QJcNnWHvF14haPw_hHqQvOnPgkdSBHQfb6mp65vsT33aUQXL0cbYBRuKODhle-FxClaeoOu4XHPmOqhaXtn9QtXEO_XDIbfKAU_F7MC0QySFVtHyi93mEHNKRappWZLeqhLdXtmYXwLak6wrnTbm1tPxQJZ6bjvxePatDSvZX_bYMrxUVkujeSKnfbbDVbPYT7uD0pqFrXL2LbZHiSTkiNbFtPHy3gk77e&amp;vjs=3&amp;p=1&amp;sk=&amp;fvj=0\" id=\"sja1\" onclick=\"setRefineByCookie([]); sjoc('sja1',0); convCtr('SJ')\" onmousedown=\"sjomd('sja1'); clk('sja1');\" rel=\"noopener nofollow\" target=\"_blank\" title=\"Software-Senior Engineer(SFDC)\"><b>Software</b>-Senior <b>Engineer</b>(SFDC)</a>\n",
       "<br/>\n",
       "<div class=\"sjcl\"><div>\n",
       "<span class=\"company\">\n",
       "<a class=\"turnstileLink\" data-tn-element=\"companyName\" href=\"/cmp/Telstra\" onmousedown=\"this.href = appendParamsOnce(this.href, 'from=SERP&amp;campaignid=serp-linkcompanyname&amp;fromjk=dae5ae83492b261b&amp;jcid=37a309344fac585c')\" rel=\"noopener\" target=\"_blank\">\n",
       "        Telstra</a></span>\n",
       "<a class=\"ratingsLabel\" data-tn-element=\"reviewStars\" data-tn-variant=\"cmplinktst2\" href=\"/cmp/Telstra/reviews\" onmousedown=\"this.href = appendParamsOnce(this.href, '?campaignid=cmplinktst2&amp;from=SERP&amp;jt=Software-Senior+Engineer%28SFDC%29&amp;fromjk=dae5ae83492b261b&amp;jcid=37a309344fac585c');\" rel=\"noopener\" target=\"_blank\" title=\"Telstra reviews\">\n",
       "<span class=\"ratings\"><span class=\"rating\" style=\"width:51.0px\"><!-- --></span></span>\n",
       "<span class=\"slNoUnderline\">910 reviews</span></a>\n",
       "</div><div class=\"location\">Pune, Maharashtra</div></div>\n",
       "<div class=\"recJobLoc\" data-rc-loc=\"Pune, Maharashtra\" id=\"recJobLoc_dae5ae83492b261b\" style=\"display: none\">\n",
       "</div>\n",
       "<div class=\"paddedSummary\">\n",
       "<table border=\"0\" cellpadding=\"0\" cellspacing=\"0\" width=\"100%\"><tr><td class=\"snip\">\n",
       "<span class=\"summary\">\n",
       "                            Ability to design and develop Salesforce CRM &amp; Force.com Applications. Full cycle implementation experience with SFDC (application design, architecture and...</span>\n",
       "</td></tr></table>\n",
       "</div>\n",
       "<div class=\"sjCapt\">\n",
       "<div class=\"result-link-bar-container\">\n",
       "<div class=\"result-link-bar\"><span class=\" sponsoredGray \">Sponsored</span> - <span class=\"tt_set\" id=\"tt_set_10\"><a class=\"sl resultLink save-job-link \" href=\"#\" id=\"sj_dae5ae83492b261b\" onclick=\"changeJobState('dae5ae83492b261b', 'save', 'linkbar', true, ''); return false;\" title=\"Save this job to my.indeed\">save job</a></span><div class=\"edit_note_content\" id=\"editsaved2_dae5ae83492b261b\" style=\"display:none;\"></div><script>if (!window['sj_result_dae5ae83492b261b']) {window['sj_result_dae5ae83492b261b'] = {};}window['sj_result_dae5ae83492b261b']['showSource'] = false; window['sj_result_dae5ae83492b261b']['source'] = \"Telstra\"; window['sj_result_dae5ae83492b261b']['loggedIn'] = false; window['sj_result_dae5ae83492b261b']['showMyJobsLinks'] = false;window['sj_result_dae5ae83492b261b']['undoAction'] = \"unsave\";window['sj_result_dae5ae83492b261b']['jobKey'] = \"dae5ae83492b261b\"; window['sj_result_dae5ae83492b261b']['myIndeedAvailable'] = true; window['sj_result_dae5ae83492b261b']['showMoreActionsLink'] = window['sj_result_dae5ae83492b261b']['showMoreActionsLink'] || false; window['sj_result_dae5ae83492b261b']['resultNumber'] = 10; window['sj_result_dae5ae83492b261b']['jobStateChangedToSaved'] = false; window['sj_result_dae5ae83492b261b']['searchState'] = \"q=software engineer&amp;l=pune\"; window['sj_result_dae5ae83492b261b']['basicPermaLink'] = \"https://www.indeed.co.in\"; window['sj_result_dae5ae83492b261b']['saveJobFailed'] = false; window['sj_result_dae5ae83492b261b']['removeJobFailed'] = false; window['sj_result_dae5ae83492b261b']['requestPending'] = false; window['sj_result_dae5ae83492b261b']['notesEnabled'] = false; window['sj_result_dae5ae83492b261b']['currentPage'] = \"serp\"; window['sj_result_dae5ae83492b261b']['sponsored'] = true;window['sj_result_dae5ae83492b261b']['showSponsor'] = true;window['sj_result_dae5ae83492b261b']['reportJobButtonEnabled'] = false; window['sj_result_dae5ae83492b261b']['showMyJobsHired'] = false; window['sj_result_dae5ae83492b261b']['showSaveForSponsored'] = true; window['sj_result_dae5ae83492b261b']['showJobAge'] = true;</script></div></div>\n",
       "<div class=\"tab-container\">\n",
       "<div class=\"sign-in-container result-tab\"></div>\n",
       "<div class=\"tellafriend-container result-tab email_job_content\"></div>\n",
       "</div>\n",
       "</div>\n",
       "</div>"
      ]
     },
     "execution_count": 35,
     "metadata": {},
     "output_type": "execute_result"
    }
   ],
   "source": [
    "jobCards[0]"
   ]
  },
  {
   "cell_type": "code",
   "execution_count": 44,
   "metadata": {},
   "outputs": [],
   "source": []
  },
  {
   "cell_type": "code",
   "execution_count": 55,
   "metadata": {},
   "outputs": [],
   "source": [
    "def get_title(jobcard):\n",
    "            jobtitle = jobcard.findAll(\"a\",{\"class\":\"jobtitle\"})\n",
    "            turns = jobcard.findAll(\"a\",{\"class\":\"turnstileLink\"})\n",
    "            \n",
    "            if len(jobtitle) != 0:\n",
    "                return jobtitle[0].text\n",
    "            elif len(turns) != 0:\n",
    "                return turns[0].text\n",
    "            else:\n",
    "                return False"
   ]
  },
  {
   "cell_type": "code",
   "execution_count": 57,
   "metadata": {},
   "outputs": [
    {
     "name": "stdout",
     "output_type": "stream",
     "text": [
      "Software-Senior Engineer(SFDC)\n",
      "Software-Senior Engineer(Cloudsense CPQ )\n",
      "Business Developer\n",
      "DotNet Developer\n",
      "Jr.Java Developer\n",
      "Need JavaScript Developer\n",
      "Software Developer\n",
      "Jr. Web Developer\n",
      "Software Development Engineer\n",
      "Urgently hiring Experienced Ionic framework developer\n",
      "Ruby Developer 5+ years’ exp (not web based)\n",
      "UI HTML Developer\n",
      "Android Developer\n",
      "Web developer\n",
      "C++ Software Developer Windows Endpoint Protection (f/m/x))\n",
      "Android Developer\n"
     ]
    }
   ],
   "source": [
    "for i in jobCards:\n",
    "    titles = get_title(i)\n",
    "    print(titles)"
   ]
  },
  {
   "cell_type": "code",
   "execution_count": 58,
   "metadata": {},
   "outputs": [],
   "source": [
    "def get_company(jobcard):\n",
    "    company = jobcard.findAll(\"span\",{\"class\":\"company\"})\n",
    "    if(len(company) != 0):\n",
    "        return company[0].text\n",
    "    else:\n",
    "        return None"
   ]
  },
  {
   "cell_type": "code",
   "execution_count": 61,
   "metadata": {},
   "outputs": [
    {
     "name": "stdout",
     "output_type": "stream",
     "text": [
      "0 : \n",
      "\n",
      "        Telstra\n",
      "1 : \n",
      "\n",
      "        Telstra\n",
      "2 : \n",
      "        https://www.chauli.com/\n",
      "3 : \n",
      "\n",
      "        Infosys\n",
      "4 : \n",
      "        3Gen Consulting Pvt. Ltd.\n",
      "5 : \n",
      "        Webwide IT Solutions LLP\n",
      "6 : \n",
      "\n",
      "        Legasis Services Private Limited\n",
      "7 : \n",
      "        V-SOFTECH\n",
      "8 : \n",
      "\n",
      "        Amazon.com\n",
      "9 : \n",
      "        Prisms\n",
      "10 : \n",
      "        Big4 Solutions\n",
      "11 : \n",
      "        Proptoq\n",
      "12 : \n",
      "        AllMiles (PITASYS Softwares Pvt Ltd)\n",
      "13 : \n",
      "        Optimist Brand Design\n",
      "14 : \n",
      "        Avira Operations GmbH & Co. KG\n",
      "15 : \n",
      "        Datascience Technologies Pvt Ltd\n"
     ]
    }
   ],
   "source": [
    "for j,i in enumerate(jobCards):\n",
    "    titles = get_company(i)\n",
    "    print(j,\":\",titles)"
   ]
  },
  {
   "cell_type": "code",
   "execution_count": null,
   "metadata": {},
   "outputs": [],
   "source": []
  }
 ],
 "metadata": {
  "kernelspec": {
   "display_name": "Python 3",
   "language": "python",
   "name": "python3"
  },
  "language_info": {
   "codemirror_mode": {
    "name": "ipython",
    "version": 3
   },
   "file_extension": ".py",
   "mimetype": "text/x-python",
   "name": "python",
   "nbconvert_exporter": "python",
   "pygments_lexer": "ipython3",
   "version": "3.6.2"
  }
 },
 "nbformat": 4,
 "nbformat_minor": 2
}
