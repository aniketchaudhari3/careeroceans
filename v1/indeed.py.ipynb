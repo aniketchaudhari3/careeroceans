{
 "cells": [
  {
   "cell_type": "code",
   "execution_count": 46,
   "metadata": {},
   "outputs": [],
   "source": [
    "from souper import *\n",
    "\n",
    "url = 'https://www.indeed.co.in/jobs?'\n",
    "\n",
    "payload = {\"q\":\"software engineer\",\"l\":\"pune\"}\n",
    "\n",
    "soup = Souper(url,payload).get_soup()\n",
    "jobCards = soup.findAll(\"div\", {\"class\": \"jobsearch-SerpJobCard\"})"
   ]
  },
  {
   "cell_type": "code",
   "execution_count": 15,
   "metadata": {},
   "outputs": [],
   "source": [
    "def display():\n",
    "    for i in range(0,len(jobCards)):\n",
    "        jobtitle = jobCards[i].findAll(\"a\",{\"class\":\"jobtitle\"}) or jobCards[i].findAll(\"a\",{\"class\":\"turnstilelink\"})\n",
    "        link = jobtitle[0].get('href')\n",
    "        company = jobCards[i].findAll(\"span\",{\"class\":\"company\"})\n",
    "        isSponsored = jobCards[i].findAll(\"span\",{\"class\":\"sponsoredGray\"})\n",
    "        location = jobCards[i].findAll(\"span\",{\"class\":\"company\"})\n",
    "        summary = jobCards[i].findAll(\"span\",{\"class\":\"summary\"})\n",
    "        posted = jobCards[i].findAll(\"span\",{\"class\":\"date\"})\n",
    "\n",
    "        '''\n",
    "        print(i,'Title: ',jobtitle[0].text)\n",
    "        print('company: ',company[0].text)\n",
    "        print('summary: ',summary[0].text)\n",
    "        print('address: ',location[0].text)\n",
    "        '''\n",
    "        #print('--------------------------------------------')\n",
    "        #print('posted on: ',posted[0].text)"
   ]
  },
  {
   "cell_type": "code",
   "execution_count": 3,
   "metadata": {},
   "outputs": [
    {
     "data": {
      "text/plain": [
       "<div class=\"jobsearch-SerpJobCard row result\" data-empn=\"9484714172636080\" data-jk=\"bc0a488985b66a4e\" data-tu=\"\" id=\"pj_bc0a488985b66a4e\">\n",
       "<a class=\"jobtitle turnstileLink\" data-tn-element=\"jobTitle\" href=\"/pagead/clk?mo=r&amp;ad=-6NYlbfkN0AURNFesdWY9AX99C8D_7oKUWGrp55GLhqDjBn2Vf2HZvOWsQ4wYHYF7HOFJ9BlhjuXo5kQ6QidrafZ_eHR08yVlvXHphttmffraepmtV_BRGkHVDPQV2FFH3dIaexXWst3XrA6FPyKi6ioqNqqffSnn2vlhV6m7HS_ee37_yPgEDtWvMUULWc3bjN0rCSvTmLkt1P1n3dPDqWB5S2hjq8Oq7uQ-fGnYZqi4ZPSatwXd1fi4pBOkQx9VvPc84hsNwwnYQd0be_Y0BS-WqKtLGmV_fx4Kx12YJ50_FjzzM6O19TV4IlYB5WFXR0STilhCz5QHzOpF-OMOtEeUwiqLAXd1O93nRFj5-H8t0XtzxjRjUySCnFoD7iR79yp7dUTLH2inxQePjjApCFqAI_fchf7Wx6cYWiMpFu_yg-D59kfb9EyoDPKyi6x&amp;vjs=3&amp;p=1&amp;sk=&amp;fvj=1\" id=\"sja1\" onclick=\"setRefineByCookie([]); sjoc('sja1',0); convCtr('SJ')\" onmousedown=\"sjomd('sja1'); clk('sja1');\" rel=\"noopener nofollow\" target=\"_blank\" title=\"Marketing Engineer – PSG (Minimum 2 + yr Exp.)\">Marketing <b>Engineer</b> – PSG (Minimum 2 + yr Exp.)</a>\n",
       "<br/>\n",
       "<div class=\"sjcl\"><div>\n",
       "<span class=\"company\">\n",
       "<a class=\"turnstileLink\" data-tn-element=\"companyName\" href=\"/cmp/Trident-Techlabs-Pvt.-Ltd\" onmousedown=\"this.href = appendParamsOnce(this.href, 'from=SERP&amp;campaignid=serp-linkcompanyname&amp;fromjk=bc0a488985b66a4e&amp;jcid=f83033f5cba0e6e3')\" rel=\"noopener\" target=\"_blank\">\n",
       "        Trident techlabs Pvt. Ltd</a></span>\n",
       "<a class=\"ratingsLabel\" data-tn-element=\"reviewStars\" data-tn-variant=\"cmplinktst2\" href=\"/cmp/Trident-Techlabs-Pvt.-Ltd/reviews\" onmousedown=\"this.href = appendParamsOnce(this.href, '?campaignid=cmplinktst2&amp;from=SERP&amp;jt=Marketing+Engineer+%5Cu2013+PSG+%28Minimum+2+%2B+yr+Exp.%29&amp;fromjk=bc0a488985b66a4e&amp;jcid=f83033f5cba0e6e3');\" rel=\"noopener\" target=\"_blank\" title=\"Trident Techlabs reviews\">\n",
       "<span class=\"ratings\"><span class=\"rating\" style=\"width:43.2px\"><!-- --></span></span>\n",
       "<span class=\"slNoUnderline\">6 reviews</span></a>\n",
       "</div><div class=\"location\">Pune, Maharashtra</div></div>\n",
       "<div class=\"recJobLoc\" data-rc-loc=\"Pune, Maharashtra\" id=\"recJobLoc_bc0a488985b66a4e\" style=\"display: none\">\n",
       "</div>\n",
       "<div class=\"paddedSummary\">\n",
       "<table border=\"0\" cellpadding=\"0\" cellspacing=\"0\" width=\"100%\"><tr><td class=\"snip\">\n",
       "<span class=\"summary\">\n",
       "                            Ability to communicate effectively across varied areas including technology,. We are looking to hire candidates for Marketing <b>Engineer</b> for Power Marketing and...</span>\n",
       "</td></tr></table>\n",
       "</div>\n",
       "<div class=\"sjCapt\">\n",
       "<div class=\"iaWrapper\"><div class=\"iaP\">\n",
       "<span class=\"iaLabel\"> Apply securely with Indeed Resume</span>\n",
       "</div></div>\n",
       "<div class=\"result-link-bar-container\">\n",
       "<div class=\"result-link-bar\"><span class=\" sponsoredGray \">Sponsored</span> - <span class=\"date\">16 hours ago</span> <span class=\"tt_set\" id=\"tt_set_10\">  -  <a class=\"sl resultLink save-job-link \" href=\"#\" id=\"sj_bc0a488985b66a4e\" onclick=\"changeJobState('bc0a488985b66a4e', 'save', 'linkbar', true, ''); return false;\" title=\"Save this job to my.indeed\">save job</a></span><div class=\"edit_note_content\" id=\"editsaved2_bc0a488985b66a4e\" style=\"display:none;\"></div><script>if (!window['sj_result_bc0a488985b66a4e']) {window['sj_result_bc0a488985b66a4e'] = {};}window['sj_result_bc0a488985b66a4e']['showSource'] = false; window['sj_result_bc0a488985b66a4e']['source'] = \"Indeed\"; window['sj_result_bc0a488985b66a4e']['loggedIn'] = false; window['sj_result_bc0a488985b66a4e']['showMyJobsLinks'] = false;window['sj_result_bc0a488985b66a4e']['undoAction'] = \"unsave\";window['sj_result_bc0a488985b66a4e']['relativeJobAge'] = \"16 hours ago\";window['sj_result_bc0a488985b66a4e']['jobKey'] = \"bc0a488985b66a4e\"; window['sj_result_bc0a488985b66a4e']['myIndeedAvailable'] = true; window['sj_result_bc0a488985b66a4e']['showMoreActionsLink'] = window['sj_result_bc0a488985b66a4e']['showMoreActionsLink'] || false; window['sj_result_bc0a488985b66a4e']['resultNumber'] = 10; window['sj_result_bc0a488985b66a4e']['jobStateChangedToSaved'] = false; window['sj_result_bc0a488985b66a4e']['searchState'] = \"q=software engineer&amp;l=pune\"; window['sj_result_bc0a488985b66a4e']['basicPermaLink'] = \"https://www.indeed.co.in\"; window['sj_result_bc0a488985b66a4e']['saveJobFailed'] = false; window['sj_result_bc0a488985b66a4e']['removeJobFailed'] = false; window['sj_result_bc0a488985b66a4e']['requestPending'] = false; window['sj_result_bc0a488985b66a4e']['notesEnabled'] = false; window['sj_result_bc0a488985b66a4e']['currentPage'] = \"serp\"; window['sj_result_bc0a488985b66a4e']['sponsored'] = true;window['sj_result_bc0a488985b66a4e']['showSponsor'] = true;window['sj_result_bc0a488985b66a4e']['reportJobButtonEnabled'] = false; window['sj_result_bc0a488985b66a4e']['showMyJobsHired'] = false; window['sj_result_bc0a488985b66a4e']['showSaveForSponsored'] = true; window['sj_result_bc0a488985b66a4e']['showJobAge'] = true;</script></div></div>\n",
       "<div class=\"tab-container\">\n",
       "<div class=\"sign-in-container result-tab\"></div>\n",
       "<div class=\"tellafriend-container result-tab email_job_content\"></div>\n",
       "</div>\n",
       "</div>\n",
       "</div>"
      ]
     },
     "execution_count": 3,
     "metadata": {},
     "output_type": "execute_result"
    }
   ],
   "source": []
  },
  {
   "cell_type": "code",
   "execution_count": 47,
   "metadata": {},
   "outputs": [],
   "source": [
    "def get_posted(jobcard):\n",
    "    job_posted = jobcard.findAll(\"span\",{\"class\":\"date\"})\n",
    "    print(job_posted)\n",
    "    if len(job_posted) != 0:\n",
    "        return job_posted[0].text\n",
    "    else:\n",
    "        return False  \n",
    "    "
   ]
  },
  {
   "cell_type": "code",
   "execution_count": 48,
   "metadata": {},
   "outputs": [
    {
     "name": "stdout",
     "output_type": "stream",
     "text": [
      "[<span class=\"date\">1 day ago</span>]\n"
     ]
    },
    {
     "data": {
      "text/plain": [
       "'1 day ago'"
      ]
     },
     "execution_count": 48,
     "metadata": {},
     "output_type": "execute_result"
    }
   ],
   "source": [
    "get_posted(jobCards[0])"
   ]
  },
  {
   "cell_type": "code",
   "execution_count": null,
   "metadata": {},
   "outputs": [],
   "source": []
  },
  {
   "cell_type": "code",
   "execution_count": null,
   "metadata": {},
   "outputs": [],
   "source": []
  }
 ],
 "metadata": {
  "kernelspec": {
   "display_name": "Python 3",
   "language": "python",
   "name": "python3"
  },
  "language_info": {
   "codemirror_mode": {
    "name": "ipython",
    "version": 3
   },
   "file_extension": ".py",
   "mimetype": "text/x-python",
   "name": "python",
   "nbconvert_exporter": "python",
   "pygments_lexer": "ipython3",
   "version": "3.6.2"
  }
 },
 "nbformat": 4,
 "nbformat_minor": 2
}
